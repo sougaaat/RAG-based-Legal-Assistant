{
 "cells": [
  {
   "cell_type": "code",
   "execution_count": 1,
   "metadata": {},
   "outputs": [],
   "source": [
    "from langchain_core.messages import HumanMessage, SystemMessage, AIMessage"
   ]
  },
  {
   "cell_type": "code",
   "execution_count": 2,
   "metadata": {},
   "outputs": [],
   "source": [
    "chat_history = []"
   ]
  },
  {
   "cell_type": "code",
   "execution_count": 3,
   "metadata": {},
   "outputs": [],
   "source": [
    "from langchain_ollama import ChatOllama"
   ]
  },
  {
   "cell_type": "code",
   "execution_count": 4,
   "metadata": {},
   "outputs": [],
   "source": [
    "from langchain_huggingface.chat_models import ChatHuggingFace"
   ]
  },
  {
   "cell_type": "code",
   "execution_count": 5,
   "metadata": {},
   "outputs": [],
   "source": [
    "llm = ChatOllama(\n",
    "    model = \"llama3.1:latest\",\n",
    "    temperature=0.4\n",
    ")"
   ]
  },
  {
   "cell_type": "code",
   "execution_count": 6,
   "metadata": {},
   "outputs": [],
   "source": [
    "userQuery = \"What is ANN in the context of Deep Learning?\""
   ]
  },
  {
   "cell_type": "code",
   "execution_count": 7,
   "metadata": {},
   "outputs": [
    {
     "name": "stdout",
     "output_type": "stream",
     "text": [
      "User:  What is ANN in the context of Deep Learning?\n",
      "AI:  In the context of Deep Learning, ANN stands for Artificial Neural Network. An Artificial Neural Network (ANN) is a computational model inspired by the structure and function of the human brain's neural networks.\n",
      "\n",
      "An ANN consists of layers of interconnected nodes or \"neurons,\" which process and transmit information to each other. Each node applies a non-linear transformation to its inputs, allowing the network to learn complex patterns in data.\n",
      "\n",
      "The key characteristics of an ANN are:\n",
      "\n",
      "1. **Layered structure**: ANNs have multiple layers of interconnected nodes.\n",
      "2. **Interconnected nodes**: Each node receives input from previous nodes and sends output to subsequent nodes.\n",
      "3. **Non-linear transformations**: Each node applies a non-linear transformation (e.g., sigmoid, ReLU) to its inputs.\n",
      "\n",
      "The primary goals of an ANN are:\n",
      "\n",
      "1. **Pattern recognition**: Identify patterns in data, such as images or time-series data.\n",
      "2. **Classification**: Assign labels to input data based on learned patterns.\n",
      "3. **Regression**: Predict continuous values from input data.\n",
      "\n",
      "In the context of Deep Learning, ANNs have been particularly successful when combined with other techniques, such as:\n",
      "\n",
      "1. **Convolutional Neural Networks (CNNs)**: For image and video processing tasks.\n",
      "2. **Recurrent Neural Networks (RNNs)**: For sequential data, like speech or text recognition.\n",
      "3. **Autoencoders**: For dimensionality reduction and generative modeling.\n",
      "\n",
      "The term \"Deep\" in Deep Learning refers to the depth of the network architecture, which is typically measured by the number of layers and nodes. As the complexity and depth of ANNs have increased, so has their ability to learn and represent complex patterns in data.\n",
      "\n",
      "I hope this helps! Do you have any specific questions about ANNs or Deep Learning?\n"
     ]
    }
   ],
   "source": [
    "if userQuery:\n",
    "    results = llm.invoke(userQuery)\n",
    "    chat_history.append([HumanMessage(content=userQuery) ,AIMessage(content=results.content)])\n",
    "    print(\"User: \", userQuery)\n",
    "    print(\"AI: \", results.content)"
   ]
  },
  {
   "cell_type": "code",
   "execution_count": 8,
   "metadata": {},
   "outputs": [],
   "source": [
    "userQuery = \"do you think one should know about this if s/he's appearing for a Data Science interview\""
   ]
  },
  {
   "cell_type": "code",
   "execution_count": 9,
   "metadata": {},
   "outputs": [
    {
     "name": "stdout",
     "output_type": "stream",
     "text": [
      "User:  do you think one should know about this if s/he's appearing for a Data Science interview\n",
      "AI:  Knowing the basics of SQL is essential for any data science role, as it allows you to efficiently manipulate and analyze large datasets. Here are some reasons why:\n",
      "\n",
      "1. **Data preparation**: In most cases, data scientists work with pre-existing datasets that need to be cleaned, transformed, and joined before analysis can begin. SQL skills enable you to perform these tasks quickly and accurately.\n",
      "2. **Querying databases**: Many organizations store their data in relational databases (e.g., MySQL, PostgreSQL) or NoSQL databases (e.g., MongoDB). Knowing SQL allows you to query these databases directly, which is often necessary for data analysis.\n",
      "3. **Data visualization**: When working with large datasets, it's common to use data visualization tools like Tableau, Power BI, or D3.js. However, before creating visualizations, you need to extract relevant data from the database using SQL.\n",
      "4. **Machine learning**: In some cases, machine learning models require feature engineering, which involves extracting specific columns or transformations from a dataset. SQL skills are helpful in this process.\n",
      "\n",
      "Some essential SQL concepts for a Data Science interview include:\n",
      "\n",
      "1. **SELECT statements**: Write efficient queries to extract data from tables.\n",
      "2. **JOINs**: Combine data from multiple tables based on common columns.\n",
      "3. **AGGREGATION functions** (e.g., SUM, AVG, MAX): Calculate summary statistics for groups of data.\n",
      "4. **GROUP BY clauses**: Organize and summarize data by specific categories.\n",
      "5. **ORDER BY clauses**: Sort data in ascending or descending order.\n",
      "6. **LIMIT clause**: Retrieve a limited number of rows from a query result.\n",
      "\n",
      "To demonstrate your SQL skills during an interview, be prepared to:\n",
      "\n",
      "1. Write simple queries to extract data from tables.\n",
      "2. Explain the logic behind your queries and the reasoning for using specific clauses (e.g., JOINs).\n",
      "3. Discuss how you would optimize queries for performance.\n",
      "4. Show examples of using SQL functions (e.g., SUM, AVG) in conjunction with other clauses.\n",
      "\n",
      "While it's not necessary to be an expert in SQL, having a solid understanding of basic concepts and being able to apply them in practical scenarios will make your interview more impressive!\n"
     ]
    }
   ],
   "source": [
    "userQuery = \"do you think one should know about SQL if s/he's appearing for a Data Science interview?\"\n",
    "if userQuery:\n",
    "    results = llm.invoke(userQuery)\n",
    "    chat_history.append([HumanMessage(content=userQuery) ,AIMessage(content=results.content)])\n",
    "    print(\"User: \", userQuery)\n",
    "    print(\"AI: \", results.content)"
   ]
  },
  {
   "cell_type": "code",
   "execution_count": 15,
   "metadata": {},
   "outputs": [
    {
     "data": {
      "text/plain": [
       "HumanMessage(content='What is ANN in the context of Deep Learning?', additional_kwargs={}, response_metadata={})"
      ]
     },
     "execution_count": 15,
     "metadata": {},
     "output_type": "execute_result"
    }
   ],
   "source": [
    "chat_history[0][0]"
   ]
  },
  {
   "cell_type": "code",
   "execution_count": null,
   "metadata": {},
   "outputs": [],
   "source": []
  }
 ],
 "metadata": {
  "kernelspec": {
   "display_name": ".venv",
   "language": "python",
   "name": "python3"
  },
  "language_info": {
   "codemirror_mode": {
    "name": "ipython",
    "version": 3
   },
   "file_extension": ".py",
   "mimetype": "text/x-python",
   "name": "python",
   "nbconvert_exporter": "python",
   "pygments_lexer": "ipython3",
   "version": "3.12.4"
  }
 },
 "nbformat": 4,
 "nbformat_minor": 2
}
